{
  "nbformat": 4,
  "nbformat_minor": 0,
  "metadata": {
    "colab": {
      "provenance": [],
      "authorship_tag": "ABX9TyOn4GVqsuW9PSJO2G39uvQr"
    },
    "kernelspec": {
      "name": "python3",
      "display_name": "Python 3"
    },
    "language_info": {
      "name": "python"
    }
  },
  "cells": [
    {
      "cell_type": "markdown",
      "source": [
        "Packages importig and Data Cleaning"
      ],
      "metadata": {
        "id": "RRioFb1sx6y8"
      }
    },
    {
      "cell_type": "code",
      "execution_count": 145,
      "metadata": {
        "id": "xkzjCGszrP_v"
      },
      "outputs": [],
      "source": [
        "import numpy as np\n",
        "import pandas as pd\n",
        "import tensorflow as tf\n",
        "import matplotlib.pyplot as plt\n",
        "\n",
        "from sklearn.preprocessing import MinMaxScaler\n",
        "from sklearn.metrics import mean_squared_error\n",
        "\n",
        "from tensorflow.keras.models import Sequential\n",
        "from tensorflow.keras.layers import Dense, LSTM,Dropout\n",
        "from tensorflow.keras.callbacks import ModelCheckpoint,EarlyStopping\n",
        "\n",
        "import warnings\n",
        "warnings.filterwarnings(\"ignore\")\n",
        "\n",
        "import os \n",
        "os.environ[\"TF_CPP_MIN_LOG_LEVEL\"]=\"3\"\n",
        "tf.compat.v1.logging.set_verbosity(tf.compat.v1.logging.ERROR)"
      ]
    },
    {
      "cell_type": "code",
      "source": [
        "data=pd.read_csv(\"/content/sample_data/TSLA.csv\")"
      ],
      "metadata": {
        "id": "HmPtUCv8rXr_"
      },
      "execution_count": 146,
      "outputs": []
    },
    {
      "cell_type": "code",
      "source": [
        "data.head()\n",
        "def check_df(dataframe,head=5):\n",
        "    print(\"#################### Shape #################### \")\n",
        "    print(dataframe.shape)\n",
        "    print(\"#################### Types #################### \")\n",
        "    print(dataframe.dtypes)\n",
        "    print(\"#################### Head #################### \")\n",
        "    print(dataframe.head(head))\n",
        "    print(\"#################### Tail #################### \")\n",
        "    print(dataframe.dtypes)\n",
        "    print(\"#################### NA #################### \")\n",
        "    print(dataframe.isnull().sum())\n",
        "    print(\"#################### Quantiles #################### \")\n",
        "    print(dataframe.quantile([0,0.5,0.50,0.95,0.99,1]).T)"
      ],
      "metadata": {
        "id": "xml4FOgDram9"
      },
      "execution_count": 147,
      "outputs": []
    },
    {
      "cell_type": "code",
      "source": [
        "check_df(data)"
      ],
      "metadata": {
        "colab": {
          "base_uri": "https://localhost:8080/"
        },
        "id": "su-BXX_prfCT",
        "outputId": "2963a402-f687-460e-c16c-3f6a7ee349a0"
      },
      "execution_count": 148,
      "outputs": [
        {
          "output_type": "stream",
          "name": "stdout",
          "text": [
            "#################### Shape #################### \n",
            "(2416, 7)\n",
            "#################### Types #################### \n",
            "Date          object\n",
            "Open         float64\n",
            "High         float64\n",
            "Low          float64\n",
            "Close        float64\n",
            "Adj Close    float64\n",
            "Volume         int64\n",
            "dtype: object\n",
            "#################### Head #################### \n",
            "         Date       Open   High        Low      Close  Adj Close    Volume\n",
            "0  2010-06-29  19.000000  25.00  17.540001  23.889999  23.889999  18766300\n",
            "1  2010-06-30  25.790001  30.42  23.299999  23.830000  23.830000  17187100\n",
            "2  2010-07-01  25.000000  25.92  20.270000  21.959999  21.959999   8218800\n",
            "3  2010-07-02  23.000000  23.10  18.709999  19.200001  19.200001   5139800\n",
            "4  2010-07-06  20.000000  20.00  15.830000  16.110001  16.110001   6866900\n",
            "#################### Tail #################### \n",
            "Date          object\n",
            "Open         float64\n",
            "High         float64\n",
            "Low          float64\n",
            "Close        float64\n",
            "Adj Close    float64\n",
            "Volume         int64\n",
            "dtype: object\n",
            "#################### NA #################### \n",
            "Date         0\n",
            "Open         0\n",
            "High         0\n",
            "Low          0\n",
            "Close        0\n",
            "Adj Close    0\n",
            "Volume       0\n",
            "dtype: int64\n",
            "#################### Quantiles #################### \n",
            "                    0.00          0.50          0.50          0.95  \\\n",
            "Open           16.139999  2.130350e+02  2.130350e+02  3.519100e+02   \n",
            "High           16.629999  2.167450e+02  2.167450e+02  3.567500e+02   \n",
            "Low            14.980000  2.088700e+02  2.088700e+02  3.460250e+02   \n",
            "Close          15.800000  2.129600e+02  2.129600e+02  3.511675e+02   \n",
            "Adj Close      15.800000  2.129600e+02  2.129600e+02  3.511675e+02   \n",
            "Volume     118500.000000  4.578400e+06  4.578400e+06  1.476090e+07   \n",
            "\n",
            "                   0.99          1.00  \n",
            "Open       4.235790e+02  6.736900e+02  \n",
            "High       4.284705e+02  7.861400e+02  \n",
            "Low        4.122865e+02  6.735200e+02  \n",
            "Close      4.243455e+02  7.800000e+02  \n",
            "Adj Close  4.243455e+02  7.800000e+02  \n",
            "Volume     2.459959e+07  4.706500e+07  \n"
          ]
        }
      ]
    },
    {
      "cell_type": "code",
      "source": [
        "data[\"Date\"]=pd.to_datetime(data[\"Date\"])"
      ],
      "metadata": {
        "id": "QOd-89-crhRO"
      },
      "execution_count": 149,
      "outputs": []
    },
    {
      "cell_type": "code",
      "source": [
        "data.head()"
      ],
      "metadata": {
        "colab": {
          "base_uri": "https://localhost:8080/",
          "height": 206
        },
        "id": "UJtd9uedrjnA",
        "outputId": "6622f9c6-d70c-4ba9-e376-34c72f513806"
      },
      "execution_count": 150,
      "outputs": [
        {
          "output_type": "execute_result",
          "data": {
            "text/plain": [
              "        Date       Open   High        Low      Close  Adj Close    Volume\n",
              "0 2010-06-29  19.000000  25.00  17.540001  23.889999  23.889999  18766300\n",
              "1 2010-06-30  25.790001  30.42  23.299999  23.830000  23.830000  17187100\n",
              "2 2010-07-01  25.000000  25.92  20.270000  21.959999  21.959999   8218800\n",
              "3 2010-07-02  23.000000  23.10  18.709999  19.200001  19.200001   5139800\n",
              "4 2010-07-06  20.000000  20.00  15.830000  16.110001  16.110001   6866900"
            ],
            "text/html": [
              "\n",
              "  <div id=\"df-351e60d5-0d62-4a4f-a4dd-fa06d0a53c62\">\n",
              "    <div class=\"colab-df-container\">\n",
              "      <div>\n",
              "<style scoped>\n",
              "    .dataframe tbody tr th:only-of-type {\n",
              "        vertical-align: middle;\n",
              "    }\n",
              "\n",
              "    .dataframe tbody tr th {\n",
              "        vertical-align: top;\n",
              "    }\n",
              "\n",
              "    .dataframe thead th {\n",
              "        text-align: right;\n",
              "    }\n",
              "</style>\n",
              "<table border=\"1\" class=\"dataframe\">\n",
              "  <thead>\n",
              "    <tr style=\"text-align: right;\">\n",
              "      <th></th>\n",
              "      <th>Date</th>\n",
              "      <th>Open</th>\n",
              "      <th>High</th>\n",
              "      <th>Low</th>\n",
              "      <th>Close</th>\n",
              "      <th>Adj Close</th>\n",
              "      <th>Volume</th>\n",
              "    </tr>\n",
              "  </thead>\n",
              "  <tbody>\n",
              "    <tr>\n",
              "      <th>0</th>\n",
              "      <td>2010-06-29</td>\n",
              "      <td>19.000000</td>\n",
              "      <td>25.00</td>\n",
              "      <td>17.540001</td>\n",
              "      <td>23.889999</td>\n",
              "      <td>23.889999</td>\n",
              "      <td>18766300</td>\n",
              "    </tr>\n",
              "    <tr>\n",
              "      <th>1</th>\n",
              "      <td>2010-06-30</td>\n",
              "      <td>25.790001</td>\n",
              "      <td>30.42</td>\n",
              "      <td>23.299999</td>\n",
              "      <td>23.830000</td>\n",
              "      <td>23.830000</td>\n",
              "      <td>17187100</td>\n",
              "    </tr>\n",
              "    <tr>\n",
              "      <th>2</th>\n",
              "      <td>2010-07-01</td>\n",
              "      <td>25.000000</td>\n",
              "      <td>25.92</td>\n",
              "      <td>20.270000</td>\n",
              "      <td>21.959999</td>\n",
              "      <td>21.959999</td>\n",
              "      <td>8218800</td>\n",
              "    </tr>\n",
              "    <tr>\n",
              "      <th>3</th>\n",
              "      <td>2010-07-02</td>\n",
              "      <td>23.000000</td>\n",
              "      <td>23.10</td>\n",
              "      <td>18.709999</td>\n",
              "      <td>19.200001</td>\n",
              "      <td>19.200001</td>\n",
              "      <td>5139800</td>\n",
              "    </tr>\n",
              "    <tr>\n",
              "      <th>4</th>\n",
              "      <td>2010-07-06</td>\n",
              "      <td>20.000000</td>\n",
              "      <td>20.00</td>\n",
              "      <td>15.830000</td>\n",
              "      <td>16.110001</td>\n",
              "      <td>16.110001</td>\n",
              "      <td>6866900</td>\n",
              "    </tr>\n",
              "  </tbody>\n",
              "</table>\n",
              "</div>\n",
              "      <button class=\"colab-df-convert\" onclick=\"convertToInteractive('df-351e60d5-0d62-4a4f-a4dd-fa06d0a53c62')\"\n",
              "              title=\"Convert this dataframe to an interactive table.\"\n",
              "              style=\"display:none;\">\n",
              "        \n",
              "  <svg xmlns=\"http://www.w3.org/2000/svg\" height=\"24px\"viewBox=\"0 0 24 24\"\n",
              "       width=\"24px\">\n",
              "    <path d=\"M0 0h24v24H0V0z\" fill=\"none\"/>\n",
              "    <path d=\"M18.56 5.44l.94 2.06.94-2.06 2.06-.94-2.06-.94-.94-2.06-.94 2.06-2.06.94zm-11 1L8.5 8.5l.94-2.06 2.06-.94-2.06-.94L8.5 2.5l-.94 2.06-2.06.94zm10 10l.94 2.06.94-2.06 2.06-.94-2.06-.94-.94-2.06-.94 2.06-2.06.94z\"/><path d=\"M17.41 7.96l-1.37-1.37c-.4-.4-.92-.59-1.43-.59-.52 0-1.04.2-1.43.59L10.3 9.45l-7.72 7.72c-.78.78-.78 2.05 0 2.83L4 21.41c.39.39.9.59 1.41.59.51 0 1.02-.2 1.41-.59l7.78-7.78 2.81-2.81c.8-.78.8-2.07 0-2.86zM5.41 20L4 18.59l7.72-7.72 1.47 1.35L5.41 20z\"/>\n",
              "  </svg>\n",
              "      </button>\n",
              "      \n",
              "  <style>\n",
              "    .colab-df-container {\n",
              "      display:flex;\n",
              "      flex-wrap:wrap;\n",
              "      gap: 12px;\n",
              "    }\n",
              "\n",
              "    .colab-df-convert {\n",
              "      background-color: #E8F0FE;\n",
              "      border: none;\n",
              "      border-radius: 50%;\n",
              "      cursor: pointer;\n",
              "      display: none;\n",
              "      fill: #1967D2;\n",
              "      height: 32px;\n",
              "      padding: 0 0 0 0;\n",
              "      width: 32px;\n",
              "    }\n",
              "\n",
              "    .colab-df-convert:hover {\n",
              "      background-color: #E2EBFA;\n",
              "      box-shadow: 0px 1px 2px rgba(60, 64, 67, 0.3), 0px 1px 3px 1px rgba(60, 64, 67, 0.15);\n",
              "      fill: #174EA6;\n",
              "    }\n",
              "\n",
              "    [theme=dark] .colab-df-convert {\n",
              "      background-color: #3B4455;\n",
              "      fill: #D2E3FC;\n",
              "    }\n",
              "\n",
              "    [theme=dark] .colab-df-convert:hover {\n",
              "      background-color: #434B5C;\n",
              "      box-shadow: 0px 1px 3px 1px rgba(0, 0, 0, 0.15);\n",
              "      filter: drop-shadow(0px 1px 2px rgba(0, 0, 0, 0.3));\n",
              "      fill: #FFFFFF;\n",
              "    }\n",
              "  </style>\n",
              "\n",
              "      <script>\n",
              "        const buttonEl =\n",
              "          document.querySelector('#df-351e60d5-0d62-4a4f-a4dd-fa06d0a53c62 button.colab-df-convert');\n",
              "        buttonEl.style.display =\n",
              "          google.colab.kernel.accessAllowed ? 'block' : 'none';\n",
              "\n",
              "        async function convertToInteractive(key) {\n",
              "          const element = document.querySelector('#df-351e60d5-0d62-4a4f-a4dd-fa06d0a53c62');\n",
              "          const dataTable =\n",
              "            await google.colab.kernel.invokeFunction('convertToInteractive',\n",
              "                                                     [key], {});\n",
              "          if (!dataTable) return;\n",
              "\n",
              "          const docLinkHtml = 'Like what you see? Visit the ' +\n",
              "            '<a target=\"_blank\" href=https://colab.research.google.com/notebooks/data_table.ipynb>data table notebook</a>'\n",
              "            + ' to learn more about interactive tables.';\n",
              "          element.innerHTML = '';\n",
              "          dataTable['output_type'] = 'display_data';\n",
              "          await google.colab.output.renderOutput(dataTable, element);\n",
              "          const docLink = document.createElement('div');\n",
              "          docLink.innerHTML = docLinkHtml;\n",
              "          element.appendChild(docLink);\n",
              "        }\n",
              "      </script>\n",
              "    </div>\n",
              "  </div>\n",
              "  "
            ]
          },
          "metadata": {},
          "execution_count": 150
        }
      ]
    },
    {
      "cell_type": "code",
      "source": [
        "tesla_data=data[[\"Date\",\"Close\"]]"
      ],
      "metadata": {
        "id": "jl6KsuDJrlDZ"
      },
      "execution_count": 151,
      "outputs": []
    },
    {
      "cell_type": "code",
      "source": [
        "tesla_data.head()"
      ],
      "metadata": {
        "colab": {
          "base_uri": "https://localhost:8080/",
          "height": 206
        },
        "id": "KYUKOuHsrmTF",
        "outputId": "198bdea4-503f-49ca-c86b-d52231cf211e"
      },
      "execution_count": 152,
      "outputs": [
        {
          "output_type": "execute_result",
          "data": {
            "text/plain": [
              "        Date      Close\n",
              "0 2010-06-29  23.889999\n",
              "1 2010-06-30  23.830000\n",
              "2 2010-07-01  21.959999\n",
              "3 2010-07-02  19.200001\n",
              "4 2010-07-06  16.110001"
            ],
            "text/html": [
              "\n",
              "  <div id=\"df-7673f9d3-972c-497a-9ac8-d62960515846\">\n",
              "    <div class=\"colab-df-container\">\n",
              "      <div>\n",
              "<style scoped>\n",
              "    .dataframe tbody tr th:only-of-type {\n",
              "        vertical-align: middle;\n",
              "    }\n",
              "\n",
              "    .dataframe tbody tr th {\n",
              "        vertical-align: top;\n",
              "    }\n",
              "\n",
              "    .dataframe thead th {\n",
              "        text-align: right;\n",
              "    }\n",
              "</style>\n",
              "<table border=\"1\" class=\"dataframe\">\n",
              "  <thead>\n",
              "    <tr style=\"text-align: right;\">\n",
              "      <th></th>\n",
              "      <th>Date</th>\n",
              "      <th>Close</th>\n",
              "    </tr>\n",
              "  </thead>\n",
              "  <tbody>\n",
              "    <tr>\n",
              "      <th>0</th>\n",
              "      <td>2010-06-29</td>\n",
              "      <td>23.889999</td>\n",
              "    </tr>\n",
              "    <tr>\n",
              "      <th>1</th>\n",
              "      <td>2010-06-30</td>\n",
              "      <td>23.830000</td>\n",
              "    </tr>\n",
              "    <tr>\n",
              "      <th>2</th>\n",
              "      <td>2010-07-01</td>\n",
              "      <td>21.959999</td>\n",
              "    </tr>\n",
              "    <tr>\n",
              "      <th>3</th>\n",
              "      <td>2010-07-02</td>\n",
              "      <td>19.200001</td>\n",
              "    </tr>\n",
              "    <tr>\n",
              "      <th>4</th>\n",
              "      <td>2010-07-06</td>\n",
              "      <td>16.110001</td>\n",
              "    </tr>\n",
              "  </tbody>\n",
              "</table>\n",
              "</div>\n",
              "      <button class=\"colab-df-convert\" onclick=\"convertToInteractive('df-7673f9d3-972c-497a-9ac8-d62960515846')\"\n",
              "              title=\"Convert this dataframe to an interactive table.\"\n",
              "              style=\"display:none;\">\n",
              "        \n",
              "  <svg xmlns=\"http://www.w3.org/2000/svg\" height=\"24px\"viewBox=\"0 0 24 24\"\n",
              "       width=\"24px\">\n",
              "    <path d=\"M0 0h24v24H0V0z\" fill=\"none\"/>\n",
              "    <path d=\"M18.56 5.44l.94 2.06.94-2.06 2.06-.94-2.06-.94-.94-2.06-.94 2.06-2.06.94zm-11 1L8.5 8.5l.94-2.06 2.06-.94-2.06-.94L8.5 2.5l-.94 2.06-2.06.94zm10 10l.94 2.06.94-2.06 2.06-.94-2.06-.94-.94-2.06-.94 2.06-2.06.94z\"/><path d=\"M17.41 7.96l-1.37-1.37c-.4-.4-.92-.59-1.43-.59-.52 0-1.04.2-1.43.59L10.3 9.45l-7.72 7.72c-.78.78-.78 2.05 0 2.83L4 21.41c.39.39.9.59 1.41.59.51 0 1.02-.2 1.41-.59l7.78-7.78 2.81-2.81c.8-.78.8-2.07 0-2.86zM5.41 20L4 18.59l7.72-7.72 1.47 1.35L5.41 20z\"/>\n",
              "  </svg>\n",
              "      </button>\n",
              "      \n",
              "  <style>\n",
              "    .colab-df-container {\n",
              "      display:flex;\n",
              "      flex-wrap:wrap;\n",
              "      gap: 12px;\n",
              "    }\n",
              "\n",
              "    .colab-df-convert {\n",
              "      background-color: #E8F0FE;\n",
              "      border: none;\n",
              "      border-radius: 50%;\n",
              "      cursor: pointer;\n",
              "      display: none;\n",
              "      fill: #1967D2;\n",
              "      height: 32px;\n",
              "      padding: 0 0 0 0;\n",
              "      width: 32px;\n",
              "    }\n",
              "\n",
              "    .colab-df-convert:hover {\n",
              "      background-color: #E2EBFA;\n",
              "      box-shadow: 0px 1px 2px rgba(60, 64, 67, 0.3), 0px 1px 3px 1px rgba(60, 64, 67, 0.15);\n",
              "      fill: #174EA6;\n",
              "    }\n",
              "\n",
              "    [theme=dark] .colab-df-convert {\n",
              "      background-color: #3B4455;\n",
              "      fill: #D2E3FC;\n",
              "    }\n",
              "\n",
              "    [theme=dark] .colab-df-convert:hover {\n",
              "      background-color: #434B5C;\n",
              "      box-shadow: 0px 1px 3px 1px rgba(0, 0, 0, 0.15);\n",
              "      filter: drop-shadow(0px 1px 2px rgba(0, 0, 0, 0.3));\n",
              "      fill: #FFFFFF;\n",
              "    }\n",
              "  </style>\n",
              "\n",
              "      <script>\n",
              "        const buttonEl =\n",
              "          document.querySelector('#df-7673f9d3-972c-497a-9ac8-d62960515846 button.colab-df-convert');\n",
              "        buttonEl.style.display =\n",
              "          google.colab.kernel.accessAllowed ? 'block' : 'none';\n",
              "\n",
              "        async function convertToInteractive(key) {\n",
              "          const element = document.querySelector('#df-7673f9d3-972c-497a-9ac8-d62960515846');\n",
              "          const dataTable =\n",
              "            await google.colab.kernel.invokeFunction('convertToInteractive',\n",
              "                                                     [key], {});\n",
              "          if (!dataTable) return;\n",
              "\n",
              "          const docLinkHtml = 'Like what you see? Visit the ' +\n",
              "            '<a target=\"_blank\" href=https://colab.research.google.com/notebooks/data_table.ipynb>data table notebook</a>'\n",
              "            + ' to learn more about interactive tables.';\n",
              "          element.innerHTML = '';\n",
              "          dataTable['output_type'] = 'display_data';\n",
              "          await google.colab.output.renderOutput(dataTable, element);\n",
              "          const docLink = document.createElement('div');\n",
              "          docLink.innerHTML = docLinkHtml;\n",
              "          element.appendChild(docLink);\n",
              "        }\n",
              "      </script>\n",
              "    </div>\n",
              "  </div>\n",
              "  "
            ]
          },
          "metadata": {},
          "execution_count": 152
        }
      ]
    },
    {
      "cell_type": "code",
      "source": [
        "print(\"Min. Tarih:\",tesla_data[\"Date\"].min())\n",
        "print(\"Max. Tarih:\",tesla_data[\"Date\"].max())"
      ],
      "metadata": {
        "colab": {
          "base_uri": "https://localhost:8080/"
        },
        "id": "ZF1Tn1MCrnZd",
        "outputId": "e831921f-b2e8-420f-a1d2-fe18feccbf6a"
      },
      "execution_count": 153,
      "outputs": [
        {
          "output_type": "stream",
          "name": "stdout",
          "text": [
            "Min. Tarih: 2010-06-29 00:00:00\n",
            "Max. Tarih: 2020-02-03 00:00:00\n"
          ]
        }
      ]
    },
    {
      "cell_type": "code",
      "source": [
        "tesla_data.index=tesla_data[\"Date\"]"
      ],
      "metadata": {
        "id": "PRn9bdSAro5P"
      },
      "execution_count": 154,
      "outputs": []
    },
    {
      "cell_type": "code",
      "source": [
        "tesla_data"
      ],
      "metadata": {
        "colab": {
          "base_uri": "https://localhost:8080/",
          "height": 455
        },
        "id": "HtrK0ALdrqJJ",
        "outputId": "8b65cff6-2b95-48c4-9d3a-3e0cef5c8315"
      },
      "execution_count": 155,
      "outputs": [
        {
          "output_type": "execute_result",
          "data": {
            "text/plain": [
              "                 Date       Close\n",
              "Date                             \n",
              "2010-06-29 2010-06-29   23.889999\n",
              "2010-06-30 2010-06-30   23.830000\n",
              "2010-07-01 2010-07-01   21.959999\n",
              "2010-07-02 2010-07-02   19.200001\n",
              "2010-07-06 2010-07-06   16.110001\n",
              "...               ...         ...\n",
              "2020-01-28 2020-01-28  566.900024\n",
              "2020-01-29 2020-01-29  580.989990\n",
              "2020-01-30 2020-01-30  640.809998\n",
              "2020-01-31 2020-01-31  650.570007\n",
              "2020-02-03 2020-02-03  780.000000\n",
              "\n",
              "[2416 rows x 2 columns]"
            ],
            "text/html": [
              "\n",
              "  <div id=\"df-de963223-71c1-4e5e-9403-ad4229ceba29\">\n",
              "    <div class=\"colab-df-container\">\n",
              "      <div>\n",
              "<style scoped>\n",
              "    .dataframe tbody tr th:only-of-type {\n",
              "        vertical-align: middle;\n",
              "    }\n",
              "\n",
              "    .dataframe tbody tr th {\n",
              "        vertical-align: top;\n",
              "    }\n",
              "\n",
              "    .dataframe thead th {\n",
              "        text-align: right;\n",
              "    }\n",
              "</style>\n",
              "<table border=\"1\" class=\"dataframe\">\n",
              "  <thead>\n",
              "    <tr style=\"text-align: right;\">\n",
              "      <th></th>\n",
              "      <th>Date</th>\n",
              "      <th>Close</th>\n",
              "    </tr>\n",
              "    <tr>\n",
              "      <th>Date</th>\n",
              "      <th></th>\n",
              "      <th></th>\n",
              "    </tr>\n",
              "  </thead>\n",
              "  <tbody>\n",
              "    <tr>\n",
              "      <th>2010-06-29</th>\n",
              "      <td>2010-06-29</td>\n",
              "      <td>23.889999</td>\n",
              "    </tr>\n",
              "    <tr>\n",
              "      <th>2010-06-30</th>\n",
              "      <td>2010-06-30</td>\n",
              "      <td>23.830000</td>\n",
              "    </tr>\n",
              "    <tr>\n",
              "      <th>2010-07-01</th>\n",
              "      <td>2010-07-01</td>\n",
              "      <td>21.959999</td>\n",
              "    </tr>\n",
              "    <tr>\n",
              "      <th>2010-07-02</th>\n",
              "      <td>2010-07-02</td>\n",
              "      <td>19.200001</td>\n",
              "    </tr>\n",
              "    <tr>\n",
              "      <th>2010-07-06</th>\n",
              "      <td>2010-07-06</td>\n",
              "      <td>16.110001</td>\n",
              "    </tr>\n",
              "    <tr>\n",
              "      <th>...</th>\n",
              "      <td>...</td>\n",
              "      <td>...</td>\n",
              "    </tr>\n",
              "    <tr>\n",
              "      <th>2020-01-28</th>\n",
              "      <td>2020-01-28</td>\n",
              "      <td>566.900024</td>\n",
              "    </tr>\n",
              "    <tr>\n",
              "      <th>2020-01-29</th>\n",
              "      <td>2020-01-29</td>\n",
              "      <td>580.989990</td>\n",
              "    </tr>\n",
              "    <tr>\n",
              "      <th>2020-01-30</th>\n",
              "      <td>2020-01-30</td>\n",
              "      <td>640.809998</td>\n",
              "    </tr>\n",
              "    <tr>\n",
              "      <th>2020-01-31</th>\n",
              "      <td>2020-01-31</td>\n",
              "      <td>650.570007</td>\n",
              "    </tr>\n",
              "    <tr>\n",
              "      <th>2020-02-03</th>\n",
              "      <td>2020-02-03</td>\n",
              "      <td>780.000000</td>\n",
              "    </tr>\n",
              "  </tbody>\n",
              "</table>\n",
              "<p>2416 rows × 2 columns</p>\n",
              "</div>\n",
              "      <button class=\"colab-df-convert\" onclick=\"convertToInteractive('df-de963223-71c1-4e5e-9403-ad4229ceba29')\"\n",
              "              title=\"Convert this dataframe to an interactive table.\"\n",
              "              style=\"display:none;\">\n",
              "        \n",
              "  <svg xmlns=\"http://www.w3.org/2000/svg\" height=\"24px\"viewBox=\"0 0 24 24\"\n",
              "       width=\"24px\">\n",
              "    <path d=\"M0 0h24v24H0V0z\" fill=\"none\"/>\n",
              "    <path d=\"M18.56 5.44l.94 2.06.94-2.06 2.06-.94-2.06-.94-.94-2.06-.94 2.06-2.06.94zm-11 1L8.5 8.5l.94-2.06 2.06-.94-2.06-.94L8.5 2.5l-.94 2.06-2.06.94zm10 10l.94 2.06.94-2.06 2.06-.94-2.06-.94-.94-2.06-.94 2.06-2.06.94z\"/><path d=\"M17.41 7.96l-1.37-1.37c-.4-.4-.92-.59-1.43-.59-.52 0-1.04.2-1.43.59L10.3 9.45l-7.72 7.72c-.78.78-.78 2.05 0 2.83L4 21.41c.39.39.9.59 1.41.59.51 0 1.02-.2 1.41-.59l7.78-7.78 2.81-2.81c.8-.78.8-2.07 0-2.86zM5.41 20L4 18.59l7.72-7.72 1.47 1.35L5.41 20z\"/>\n",
              "  </svg>\n",
              "      </button>\n",
              "      \n",
              "  <style>\n",
              "    .colab-df-container {\n",
              "      display:flex;\n",
              "      flex-wrap:wrap;\n",
              "      gap: 12px;\n",
              "    }\n",
              "\n",
              "    .colab-df-convert {\n",
              "      background-color: #E8F0FE;\n",
              "      border: none;\n",
              "      border-radius: 50%;\n",
              "      cursor: pointer;\n",
              "      display: none;\n",
              "      fill: #1967D2;\n",
              "      height: 32px;\n",
              "      padding: 0 0 0 0;\n",
              "      width: 32px;\n",
              "    }\n",
              "\n",
              "    .colab-df-convert:hover {\n",
              "      background-color: #E2EBFA;\n",
              "      box-shadow: 0px 1px 2px rgba(60, 64, 67, 0.3), 0px 1px 3px 1px rgba(60, 64, 67, 0.15);\n",
              "      fill: #174EA6;\n",
              "    }\n",
              "\n",
              "    [theme=dark] .colab-df-convert {\n",
              "      background-color: #3B4455;\n",
              "      fill: #D2E3FC;\n",
              "    }\n",
              "\n",
              "    [theme=dark] .colab-df-convert:hover {\n",
              "      background-color: #434B5C;\n",
              "      box-shadow: 0px 1px 3px 1px rgba(0, 0, 0, 0.15);\n",
              "      filter: drop-shadow(0px 1px 2px rgba(0, 0, 0, 0.3));\n",
              "      fill: #FFFFFF;\n",
              "    }\n",
              "  </style>\n",
              "\n",
              "      <script>\n",
              "        const buttonEl =\n",
              "          document.querySelector('#df-de963223-71c1-4e5e-9403-ad4229ceba29 button.colab-df-convert');\n",
              "        buttonEl.style.display =\n",
              "          google.colab.kernel.accessAllowed ? 'block' : 'none';\n",
              "\n",
              "        async function convertToInteractive(key) {\n",
              "          const element = document.querySelector('#df-de963223-71c1-4e5e-9403-ad4229ceba29');\n",
              "          const dataTable =\n",
              "            await google.colab.kernel.invokeFunction('convertToInteractive',\n",
              "                                                     [key], {});\n",
              "          if (!dataTable) return;\n",
              "\n",
              "          const docLinkHtml = 'Like what you see? Visit the ' +\n",
              "            '<a target=\"_blank\" href=https://colab.research.google.com/notebooks/data_table.ipynb>data table notebook</a>'\n",
              "            + ' to learn more about interactive tables.';\n",
              "          element.innerHTML = '';\n",
              "          dataTable['output_type'] = 'display_data';\n",
              "          await google.colab.output.renderOutput(dataTable, element);\n",
              "          const docLink = document.createElement('div');\n",
              "          docLink.innerHTML = docLinkHtml;\n",
              "          element.appendChild(docLink);\n",
              "        }\n",
              "      </script>\n",
              "    </div>\n",
              "  </div>\n",
              "  "
            ]
          },
          "metadata": {},
          "execution_count": 155
        }
      ]
    },
    {
      "cell_type": "code",
      "source": [
        "tesla_data.drop(\"Date\",axis=1,inplace=True)"
      ],
      "metadata": {
        "id": "92zn4oeZrrWk"
      },
      "execution_count": 156,
      "outputs": []
    },
    {
      "cell_type": "code",
      "source": [
        "tesla_data"
      ],
      "metadata": {
        "colab": {
          "base_uri": "https://localhost:8080/",
          "height": 455
        },
        "id": "N_e9I9EcrtLz",
        "outputId": "862af938-8604-449c-cf53-89a667394581"
      },
      "execution_count": 157,
      "outputs": [
        {
          "output_type": "execute_result",
          "data": {
            "text/plain": [
              "                 Close\n",
              "Date                  \n",
              "2010-06-29   23.889999\n",
              "2010-06-30   23.830000\n",
              "2010-07-01   21.959999\n",
              "2010-07-02   19.200001\n",
              "2010-07-06   16.110001\n",
              "...                ...\n",
              "2020-01-28  566.900024\n",
              "2020-01-29  580.989990\n",
              "2020-01-30  640.809998\n",
              "2020-01-31  650.570007\n",
              "2020-02-03  780.000000\n",
              "\n",
              "[2416 rows x 1 columns]"
            ],
            "text/html": [
              "\n",
              "  <div id=\"df-fa4c4788-e69e-4bfa-888e-263552713aed\">\n",
              "    <div class=\"colab-df-container\">\n",
              "      <div>\n",
              "<style scoped>\n",
              "    .dataframe tbody tr th:only-of-type {\n",
              "        vertical-align: middle;\n",
              "    }\n",
              "\n",
              "    .dataframe tbody tr th {\n",
              "        vertical-align: top;\n",
              "    }\n",
              "\n",
              "    .dataframe thead th {\n",
              "        text-align: right;\n",
              "    }\n",
              "</style>\n",
              "<table border=\"1\" class=\"dataframe\">\n",
              "  <thead>\n",
              "    <tr style=\"text-align: right;\">\n",
              "      <th></th>\n",
              "      <th>Close</th>\n",
              "    </tr>\n",
              "    <tr>\n",
              "      <th>Date</th>\n",
              "      <th></th>\n",
              "    </tr>\n",
              "  </thead>\n",
              "  <tbody>\n",
              "    <tr>\n",
              "      <th>2010-06-29</th>\n",
              "      <td>23.889999</td>\n",
              "    </tr>\n",
              "    <tr>\n",
              "      <th>2010-06-30</th>\n",
              "      <td>23.830000</td>\n",
              "    </tr>\n",
              "    <tr>\n",
              "      <th>2010-07-01</th>\n",
              "      <td>21.959999</td>\n",
              "    </tr>\n",
              "    <tr>\n",
              "      <th>2010-07-02</th>\n",
              "      <td>19.200001</td>\n",
              "    </tr>\n",
              "    <tr>\n",
              "      <th>2010-07-06</th>\n",
              "      <td>16.110001</td>\n",
              "    </tr>\n",
              "    <tr>\n",
              "      <th>...</th>\n",
              "      <td>...</td>\n",
              "    </tr>\n",
              "    <tr>\n",
              "      <th>2020-01-28</th>\n",
              "      <td>566.900024</td>\n",
              "    </tr>\n",
              "    <tr>\n",
              "      <th>2020-01-29</th>\n",
              "      <td>580.989990</td>\n",
              "    </tr>\n",
              "    <tr>\n",
              "      <th>2020-01-30</th>\n",
              "      <td>640.809998</td>\n",
              "    </tr>\n",
              "    <tr>\n",
              "      <th>2020-01-31</th>\n",
              "      <td>650.570007</td>\n",
              "    </tr>\n",
              "    <tr>\n",
              "      <th>2020-02-03</th>\n",
              "      <td>780.000000</td>\n",
              "    </tr>\n",
              "  </tbody>\n",
              "</table>\n",
              "<p>2416 rows × 1 columns</p>\n",
              "</div>\n",
              "      <button class=\"colab-df-convert\" onclick=\"convertToInteractive('df-fa4c4788-e69e-4bfa-888e-263552713aed')\"\n",
              "              title=\"Convert this dataframe to an interactive table.\"\n",
              "              style=\"display:none;\">\n",
              "        \n",
              "  <svg xmlns=\"http://www.w3.org/2000/svg\" height=\"24px\"viewBox=\"0 0 24 24\"\n",
              "       width=\"24px\">\n",
              "    <path d=\"M0 0h24v24H0V0z\" fill=\"none\"/>\n",
              "    <path d=\"M18.56 5.44l.94 2.06.94-2.06 2.06-.94-2.06-.94-.94-2.06-.94 2.06-2.06.94zm-11 1L8.5 8.5l.94-2.06 2.06-.94-2.06-.94L8.5 2.5l-.94 2.06-2.06.94zm10 10l.94 2.06.94-2.06 2.06-.94-2.06-.94-.94-2.06-.94 2.06-2.06.94z\"/><path d=\"M17.41 7.96l-1.37-1.37c-.4-.4-.92-.59-1.43-.59-.52 0-1.04.2-1.43.59L10.3 9.45l-7.72 7.72c-.78.78-.78 2.05 0 2.83L4 21.41c.39.39.9.59 1.41.59.51 0 1.02-.2 1.41-.59l7.78-7.78 2.81-2.81c.8-.78.8-2.07 0-2.86zM5.41 20L4 18.59l7.72-7.72 1.47 1.35L5.41 20z\"/>\n",
              "  </svg>\n",
              "      </button>\n",
              "      \n",
              "  <style>\n",
              "    .colab-df-container {\n",
              "      display:flex;\n",
              "      flex-wrap:wrap;\n",
              "      gap: 12px;\n",
              "    }\n",
              "\n",
              "    .colab-df-convert {\n",
              "      background-color: #E8F0FE;\n",
              "      border: none;\n",
              "      border-radius: 50%;\n",
              "      cursor: pointer;\n",
              "      display: none;\n",
              "      fill: #1967D2;\n",
              "      height: 32px;\n",
              "      padding: 0 0 0 0;\n",
              "      width: 32px;\n",
              "    }\n",
              "\n",
              "    .colab-df-convert:hover {\n",
              "      background-color: #E2EBFA;\n",
              "      box-shadow: 0px 1px 2px rgba(60, 64, 67, 0.3), 0px 1px 3px 1px rgba(60, 64, 67, 0.15);\n",
              "      fill: #174EA6;\n",
              "    }\n",
              "\n",
              "    [theme=dark] .colab-df-convert {\n",
              "      background-color: #3B4455;\n",
              "      fill: #D2E3FC;\n",
              "    }\n",
              "\n",
              "    [theme=dark] .colab-df-convert:hover {\n",
              "      background-color: #434B5C;\n",
              "      box-shadow: 0px 1px 3px 1px rgba(0, 0, 0, 0.15);\n",
              "      filter: drop-shadow(0px 1px 2px rgba(0, 0, 0, 0.3));\n",
              "      fill: #FFFFFF;\n",
              "    }\n",
              "  </style>\n",
              "\n",
              "      <script>\n",
              "        const buttonEl =\n",
              "          document.querySelector('#df-fa4c4788-e69e-4bfa-888e-263552713aed button.colab-df-convert');\n",
              "        buttonEl.style.display =\n",
              "          google.colab.kernel.accessAllowed ? 'block' : 'none';\n",
              "\n",
              "        async function convertToInteractive(key) {\n",
              "          const element = document.querySelector('#df-fa4c4788-e69e-4bfa-888e-263552713aed');\n",
              "          const dataTable =\n",
              "            await google.colab.kernel.invokeFunction('convertToInteractive',\n",
              "                                                     [key], {});\n",
              "          if (!dataTable) return;\n",
              "\n",
              "          const docLinkHtml = 'Like what you see? Visit the ' +\n",
              "            '<a target=\"_blank\" href=https://colab.research.google.com/notebooks/data_table.ipynb>data table notebook</a>'\n",
              "            + ' to learn more about interactive tables.';\n",
              "          element.innerHTML = '';\n",
              "          dataTable['output_type'] = 'display_data';\n",
              "          await google.colab.output.renderOutput(dataTable, element);\n",
              "          const docLink = document.createElement('div');\n",
              "          docLink.innerHTML = docLinkHtml;\n",
              "          element.appendChild(docLink);\n",
              "        }\n",
              "      </script>\n",
              "    </div>\n",
              "  </div>\n",
              "  "
            ]
          },
          "metadata": {},
          "execution_count": 157
        }
      ]
    },
    {
      "cell_type": "code",
      "source": [
        "result_data=tesla_data.copy()"
      ],
      "metadata": {
        "id": "KvUey51rrux3"
      },
      "execution_count": 158,
      "outputs": []
    },
    {
      "cell_type": "code",
      "source": [
        "plt.figure(figsize=(12,6))\n",
        "plt.plot(tesla_data[\"Close\"],color=\"red\");\n",
        "plt.ylabel(\"Stock Price\")\n",
        "plt.title(\"Tesla Stock Price\")\n",
        "plt.xlabel(\"Time\")\n",
        "plt.show()"
      ],
      "metadata": {
        "colab": {
          "base_uri": "https://localhost:8080/",
          "height": 404
        },
        "id": "OOZFa3qrrwXj",
        "outputId": "fd4ebf03-464a-4b02-e93b-4c956f4f9d4a"
      },
      "execution_count": 159,
      "outputs": [
        {
          "output_type": "display_data",
          "data": {
            "text/plain": [
              "<Figure size 864x432 with 1 Axes>"
            ],
            "image/png": "[encoded data removed]"
          },
          "metadata": {
            "needs_background": "light"
          }
        }
      ]
    },
    {
      "cell_type": "code",
      "source": [
        "tesla_data=tesla_data.values"
      ],
      "metadata": {
        "id": "c76wemhDrx6y"
      },
      "execution_count": 160,
      "outputs": []
    },
    {
      "cell_type": "code",
      "source": [
        "tesla_data=tesla_data.astype(\"float32\")"
      ],
      "metadata": {
        "id": "hgL1Z02Zr0Oy"
      },
      "execution_count": 161,
      "outputs": []
    },
    {
      "cell_type": "code",
      "source": [
        "def split_data(dataframe,test_size):\n",
        "    pos=int(round(len(dataframe)*(1-test_size)))\n",
        "    train=dataframe[:pos]\n",
        "    test=dataframe[pos:]\n",
        "    return train,test,pos"
      ],
      "metadata": {
        "id": "b2N8Nbw2r4ds"
      },
      "execution_count": 162,
      "outputs": []
    },
    {
      "cell_type": "code",
      "source": [
        "train,test,pos=split_data(tesla_data,0.20)"
      ],
      "metadata": {
        "id": "rW5C5NgRr53x"
      },
      "execution_count": 163,
      "outputs": []
    },
    {
      "cell_type": "code",
      "source": [
        "print(train.shape,test.shape)"
      ],
      "metadata": {
        "colab": {
          "base_uri": "https://localhost:8080/"
        },
        "id": "BWYG-wger8c8",
        "outputId": "bd82604e-023d-4908-d881-9e9fd9950b93"
      },
      "execution_count": 164,
      "outputs": [
        {
          "output_type": "stream",
          "name": "stdout",
          "text": [
            "(1933, 1) (483, 1)\n"
          ]
        }
      ]
    },
    {
      "cell_type": "code",
      "source": [
        "scaler_train=MinMaxScaler(feature_range=(0,1))\n",
        "train=scaler_train.fit_transform(train)"
      ],
      "metadata": {
        "id": "2H_3lk2Fr-7-"
      },
      "execution_count": 165,
      "outputs": []
    },
    {
      "cell_type": "code",
      "source": [
        "scaler_test=MinMaxScaler(feature_range=(0,1))\n",
        "test=scaler_test.fit_transform(test)"
      ],
      "metadata": {
        "id": "XJcdE6zbwcAT"
      },
      "execution_count": 166,
      "outputs": []
    },
    {
      "cell_type": "code",
      "source": [
        "def create_features(data,lookback):\n",
        "    X,Y=[],[]\n",
        "    for i in range(lookback,len(data)):\n",
        "        X.append(data[i-lookback:i,0])\n",
        "        Y.append(data[i,0])\n",
        "    return np.array(X),np.array(Y)"
      ],
      "metadata": {
        "id": "_J1nIyX-r_hL"
      },
      "execution_count": 167,
      "outputs": []
    },
    {
      "cell_type": "code",
      "source": [
        "lookback=20"
      ],
      "metadata": {
        "id": "lb21pFCOsVG5"
      },
      "execution_count": 168,
      "outputs": []
    },
    {
      "cell_type": "code",
      "source": [
        "X_train,y_train=create_features(train,lookback)"
      ],
      "metadata": {
        "id": "QpYuDTQksW5u"
      },
      "execution_count": 169,
      "outputs": []
    },
    {
      "cell_type": "code",
      "source": [
        "X_test,y_test=create_features(test,lookback)"
      ],
      "metadata": {
        "id": "vc4c1qQesYq0"
      },
      "execution_count": 170,
      "outputs": []
    },
    {
      "cell_type": "code",
      "source": [
        "print(X_train.shape,y_train.shape,X_test.shape,y_test.shape)"
      ],
      "metadata": {
        "colab": {
          "base_uri": "https://localhost:8080/"
        },
        "id": "koxMierpsZ6c",
        "outputId": "22d15536-a89d-4026-a1a3-b0ecb4fe2a68"
      },
      "execution_count": 171,
      "outputs": [
        {
          "output_type": "stream",
          "name": "stdout",
          "text": [
            "(1913, 20) (1913,) (463, 20) (463,)\n"
          ]
        }
      ]
    },
    {
      "cell_type": "code",
      "source": [
        "X_train=np.reshape(X_train,(X_train.shape[0],1,X_train.shape[1]))\n",
        "X_test=np.reshape(X_test,(X_test.shape[0],1,X_test.shape[1]))\n",
        "y_train=y_train.reshape(-1,1)\n",
        "y_test=y_test.reshape(-1,1)\n",
        "print(X_train.shape,y_train.shape,X_test.shape,y_test.shape)"
      ],
      "metadata": {
        "colab": {
          "base_uri": "https://localhost:8080/"
        },
        "id": "RkEUZ344sboK",
        "outputId": "005e5445-de59-4717-fb5a-2543e78df224"
      },
      "execution_count": 172,
      "outputs": [
        {
          "output_type": "stream",
          "name": "stdout",
          "text": [
            "(1913, 1, 20) (1913, 1) (463, 1, 20) (463, 1)\n"
          ]
        }
      ]
    },
    {
      "cell_type": "code",
      "source": [
        "model=Sequential()\n",
        "model.add(LSTM(units=50,\n",
        "              activation=\"relu\",\n",
        "              input_shape=(X_train.shape[1],lookback)))\n",
        "model.add(Dropout(0.2))\n",
        "model.add(Dense(1))\n",
        "model.summary()"
      ],
      "metadata": {
        "colab": {
          "base_uri": "https://localhost:8080/"
        },
        "id": "NnV9fO6Dsf23",
        "outputId": "d0268de5-fc4e-40a7-b23b-72f1ce0c4512"
      },
      "execution_count": 173,
      "outputs": [
        {
          "output_type": "stream",
          "name": "stdout",
          "text": [
            "Model: \"sequential_4\"\n",
            "_________________________________________________________________\n",
            " Layer (type)                Output Shape              Param #   \n",
            "=================================================================\n",
            " lstm_4 (LSTM)               (None, 50)                14200     \n",
            "                                                                 \n",
            " dropout_4 (Dropout)         (None, 50)                0         \n",
            "                                                                 \n",
            " dense_4 (Dense)             (None, 1)                 51        \n",
            "                                                                 \n",
            "=================================================================\n",
            "Total params: 14,251\n",
            "Trainable params: 14,251\n",
            "Non-trainable params: 0\n",
            "_________________________________________________________________\n"
          ]
        }
      ]
    },
    {
      "cell_type": "code",
      "source": [
        "model.compile(loss=\"mean_squared_error\",optimizer=\"adam\")\n",
        "callbacks=[EarlyStopping(monitor=\"val_loss\",patience=3,verbose=1,mode=\"min\"),\n",
        "          ModelCheckpoint(filepath=\"mymodel.h5\",monitor=\"val_loss\",mode=\"min\",\n",
        "                         save_best_only=True,save_weights_only=False,verbose=1)]\n",
        "history = model.fit(x=X_train,\n",
        "                    y=y_train,\n",
        "                    epochs=100,\n",
        "                    batch_size=20,\n",
        "                    validation_data=(X_test,y_test),\n",
        "                    callbacks=callbacks,\n",
        "                    shuffle=False)"
      ],
      "metadata": {
        "colab": {
          "base_uri": "https://localhost:8080/"
        },
        "id": "mH5FyvYjshuz",
        "outputId": "c61067ce-b6ea-47fe-d4a1-dafb17ddd163"
      },
      "execution_count": 174,
      "outputs": [
        {
          "output_type": "stream",
          "name": "stdout",
          "text": [
            "Epoch 1/100\n",
            "92/96 [===========================>..] - ETA: 0s - loss: 0.0061\n",
            "Epoch 1: val_loss improved from inf to 0.00387, saving model to mymodel.h5\n",
            "96/96 [==============================] - 2s 6ms/step - loss: 0.0063 - val_loss: 0.0039\n",
            "Epoch 2/100\n",
            "92/96 [===========================>..] - ETA: 0s - loss: 0.0055\n",
            "Epoch 2: val_loss improved from 0.00387 to 0.00299, saving model to mymodel.h5\n",
            "96/96 [==============================] - 0s 4ms/step - loss: 0.0058 - val_loss: 0.0030\n",
            "Epoch 3/100\n",
            "80/96 [========================>.....] - ETA: 0s - loss: 0.0032\n",
            "Epoch 3: val_loss improved from 0.00299 to 0.00288, saving model to mymodel.h5\n",
            "96/96 [==============================] - 0s 3ms/step - loss: 0.0044 - val_loss: 0.0029\n",
            "Epoch 4/100\n",
            "80/96 [========================>.....] - ETA: 0s - loss: 0.0030\n",
            "Epoch 4: val_loss did not improve from 0.00288\n",
            "96/96 [==============================] - 0s 3ms/step - loss: 0.0041 - val_loss: 0.0029\n",
            "Epoch 5/100\n",
            "77/96 [=======================>......] - ETA: 0s - loss: 0.0027\n",
            "Epoch 5: val_loss improved from 0.00288 to 0.00263, saving model to mymodel.h5\n",
            "96/96 [==============================] - 0s 4ms/step - loss: 0.0041 - val_loss: 0.0026\n",
            "Epoch 6/100\n",
            "88/96 [==========================>...] - ETA: 0s - loss: 0.0030\n",
            "Epoch 6: val_loss did not improve from 0.00263\n",
            "96/96 [==============================] - 0s 4ms/step - loss: 0.0037 - val_loss: 0.0029\n",
            "Epoch 7/100\n",
            "77/96 [=======================>......] - ETA: 0s - loss: 0.0024\n",
            "Epoch 7: val_loss improved from 0.00263 to 0.00229, saving model to mymodel.h5\n",
            "96/96 [==============================] - 0s 4ms/step - loss: 0.0037 - val_loss: 0.0023\n",
            "Epoch 8/100\n",
            "86/96 [=========================>....] - ETA: 0s - loss: 0.0026\n",
            "Epoch 8: val_loss improved from 0.00229 to 0.00204, saving model to mymodel.h5\n",
            "96/96 [==============================] - 0s 3ms/step - loss: 0.0033 - val_loss: 0.0020\n",
            "Epoch 9/100\n",
            "93/96 [============================>.] - ETA: 0s - loss: 0.0030\n",
            "Epoch 9: val_loss improved from 0.00204 to 0.00189, saving model to mymodel.h5\n",
            "96/96 [==============================] - 0s 4ms/step - loss: 0.0031 - val_loss: 0.0019\n",
            "Epoch 10/100\n",
            "92/96 [===========================>..] - ETA: 0s - loss: 0.0032\n",
            "Epoch 10: val_loss did not improve from 0.00189\n",
            "96/96 [==============================] - 0s 3ms/step - loss: 0.0034 - val_loss: 0.0019\n",
            "Epoch 11/100\n",
            "79/96 [=======================>......] - ETA: 0s - loss: 0.0025\n",
            "Epoch 11: val_loss improved from 0.00189 to 0.00188, saving model to mymodel.h5\n",
            "96/96 [==============================] - 0s 3ms/step - loss: 0.0035 - val_loss: 0.0019\n",
            "Epoch 12/100\n",
            "88/96 [==========================>...] - ETA: 0s - loss: 0.0026\n",
            "Epoch 12: val_loss improved from 0.00188 to 0.00184, saving model to mymodel.h5\n",
            "96/96 [==============================] - 0s 4ms/step - loss: 0.0033 - val_loss: 0.0018\n",
            "Epoch 13/100\n",
            "88/96 [==========================>...] - ETA: 0s - loss: 0.0027\n",
            "Epoch 13: val_loss improved from 0.00184 to 0.00173, saving model to mymodel.h5\n",
            "96/96 [==============================] - 0s 4ms/step - loss: 0.0033 - val_loss: 0.0017\n",
            "Epoch 14/100\n",
            "96/96 [==============================] - ETA: 0s - loss: 0.0032\n",
            "Epoch 14: val_loss improved from 0.00173 to 0.00155, saving model to mymodel.h5\n",
            "96/96 [==============================] - 0s 4ms/step - loss: 0.0032 - val_loss: 0.0016\n",
            "Epoch 15/100\n",
            "88/96 [==========================>...] - ETA: 0s - loss: 0.0027\n",
            "Epoch 15: val_loss improved from 0.00155 to 0.00153, saving model to mymodel.h5\n",
            "96/96 [==============================] - 0s 4ms/step - loss: 0.0032 - val_loss: 0.0015\n",
            "Epoch 16/100\n",
            "93/96 [============================>.] - ETA: 0s - loss: 0.0032\n",
            "Epoch 16: val_loss improved from 0.00153 to 0.00152, saving model to mymodel.h5\n",
            "96/96 [==============================] - 0s 4ms/step - loss: 0.0033 - val_loss: 0.0015\n",
            "Epoch 17/100\n",
            "93/96 [============================>.] - ETA: 0s - loss: 0.0030\n",
            "Epoch 17: val_loss improved from 0.00152 to 0.00149, saving model to mymodel.h5\n",
            "96/96 [==============================] - 0s 4ms/step - loss: 0.0031 - val_loss: 0.0015\n",
            "Epoch 18/100\n",
            "81/96 [========================>.....] - ETA: 0s - loss: 0.0022\n",
            "Epoch 18: val_loss did not improve from 0.00149\n",
            "96/96 [==============================] - 0s 3ms/step - loss: 0.0034 - val_loss: 0.0016\n",
            "Epoch 19/100\n",
            "78/96 [=======================>......] - ETA: 0s - loss: 0.0021\n",
            "Epoch 19: val_loss improved from 0.00149 to 0.00130, saving model to mymodel.h5\n",
            "96/96 [==============================] - 0s 4ms/step - loss: 0.0030 - val_loss: 0.0013\n",
            "Epoch 20/100\n",
            "88/96 [==========================>...] - ETA: 0s - loss: 0.0025\n",
            "Epoch 20: val_loss did not improve from 0.00130\n",
            "96/96 [==============================] - 0s 4ms/step - loss: 0.0030 - val_loss: 0.0014\n",
            "Epoch 21/100\n",
            "96/96 [==============================] - ETA: 0s - loss: 0.0028\n",
            "Epoch 21: val_loss did not improve from 0.00130\n",
            "96/96 [==============================] - 0s 4ms/step - loss: 0.0028 - val_loss: 0.0015\n",
            "Epoch 22/100\n",
            "94/96 [============================>.] - ETA: 0s - loss: 0.0031\n",
            "Epoch 22: val_loss improved from 0.00130 to 0.00120, saving model to mymodel.h5\n",
            "96/96 [==============================] - 0s 4ms/step - loss: 0.0033 - val_loss: 0.0012\n",
            "Epoch 23/100\n",
            "83/96 [========================>.....] - ETA: 0s - loss: 0.0023\n",
            "Epoch 23: val_loss did not improve from 0.00120\n",
            "96/96 [==============================] - 0s 3ms/step - loss: 0.0031 - val_loss: 0.0013\n",
            "Epoch 24/100\n",
            "95/96 [============================>.] - ETA: 0s - loss: 0.0033\n",
            "Epoch 24: val_loss improved from 0.00120 to 0.00119, saving model to mymodel.h5\n",
            "96/96 [==============================] - 0s 4ms/step - loss: 0.0033 - val_loss: 0.0012\n",
            "Epoch 25/100\n",
            "85/96 [=========================>....] - ETA: 0s - loss: 0.0023\n",
            "Epoch 25: val_loss improved from 0.00119 to 0.00113, saving model to mymodel.h5\n",
            "96/96 [==============================] - 0s 4ms/step - loss: 0.0030 - val_loss: 0.0011\n",
            "Epoch 26/100\n",
            "82/96 [========================>.....] - ETA: 0s - loss: 0.0022\n",
            "Epoch 26: val_loss did not improve from 0.00113\n",
            "96/96 [==============================] - 0s 3ms/step - loss: 0.0032 - val_loss: 0.0012\n",
            "Epoch 27/100\n",
            "85/96 [=========================>....] - ETA: 0s - loss: 0.0022\n",
            "Epoch 27: val_loss improved from 0.00113 to 0.00110, saving model to mymodel.h5\n",
            "96/96 [==============================] - 0s 3ms/step - loss: 0.0030 - val_loss: 0.0011\n",
            "Epoch 28/100\n",
            "84/96 [=========================>....] - ETA: 0s - loss: 0.0022\n",
            "Epoch 28: val_loss improved from 0.00110 to 0.00103, saving model to mymodel.h5\n",
            "96/96 [==============================] - 0s 3ms/step - loss: 0.0030 - val_loss: 0.0010\n",
            "Epoch 29/100\n",
            "80/96 [========================>.....] - ETA: 0s - loss: 0.0021\n",
            "Epoch 29: val_loss did not improve from 0.00103\n",
            "96/96 [==============================] - 0s 3ms/step - loss: 0.0030 - val_loss: 0.0012\n",
            "Epoch 30/100\n",
            "81/96 [========================>.....] - ETA: 0s - loss: 0.0021\n",
            "Epoch 30: val_loss did not improve from 0.00103\n",
            "96/96 [==============================] - 0s 3ms/step - loss: 0.0031 - val_loss: 0.0012\n",
            "Epoch 31/100\n",
            "90/96 [===========================>..] - ETA: 0s - loss: 0.0027\n",
            "Epoch 31: val_loss did not improve from 0.00103\n",
            "96/96 [==============================] - 0s 3ms/step - loss: 0.0031 - val_loss: 0.0014\n",
            "Epoch 31: early stopping\n"
          ]
        }
      ]
    },
    {
      "cell_type": "code",
      "source": [
        "plt.figure(figsize=(20,5))\n",
        "plt.subplot(1,2,2)\n",
        "plt.plot(history.history[\"loss\"],label=\"Training Loss\")\n",
        "plt.plot(history.history[\"val_loss\"],label=\"Validation Loss\")\n",
        "plt.legend(loc=\"upper right\")\n",
        "plt.xlabel(\"Epoch\",fontsize=16)\n",
        "plt.ylabel(\"Loss\",fontsize=16)\n",
        "plt.ylim([0,max(plt.ylim())])\n",
        "plt.title(\"Training and Validation Loss\",fontsize=16)\n",
        "plt.show()"
      ],
      "metadata": {
        "colab": {
          "base_uri": "https://localhost:8080/",
          "height": 357
        },
        "id": "axyTWJpdsA-r",
        "outputId": "48433a10-5310-42a6-c860-ebe56242e9c6"
      },
      "execution_count": 175,
      "outputs": [
        {
          "output_type": "display_data",
          "data": {
            "text/plain": [
              "<Figure size 1440x360 with 1 Axes>"
            ],
            "image/png": "[encoded data removed]"
          },
          "metadata": {
            "needs_background": "light"
          }
        }
      ]
    },
    {
      "cell_type": "code",
      "source": [
        "loss=model.evaluate(X_test,y_test,batch_size=20)"
      ],
      "metadata": {
        "colab": {
          "base_uri": "https://localhost:8080/"
        },
        "id": "er0oQ_IXsCfu",
        "outputId": "70e4fd5b-ba07-4fe0-c664-66cea66eabac"
      },
      "execution_count": 176,
      "outputs": [
        {
          "output_type": "stream",
          "name": "stdout",
          "text": [
            "24/24 [==============================] - 0s 2ms/step - loss: 0.0014\n"
          ]
        }
      ]
    },
    {
      "cell_type": "code",
      "source": [
        "print(\"\\nTest loss:%.1f%%\"%(100.0*loss))"
      ],
      "metadata": {
        "colab": {
          "base_uri": "https://localhost:8080/"
        },
        "id": "WCcOA9J9sD_k",
        "outputId": "039b2188-691a-4b14-acd3-6c41aa0cd522"
      },
      "execution_count": 177,
      "outputs": [
        {
          "output_type": "stream",
          "name": "stdout",
          "text": [
            "\n",
            "Test loss:0.1%\n"
          ]
        }
      ]
    },
    {
      "cell_type": "code",
      "source": [
        "train_predict=model.predict(X_train)\n",
        "test_predict=model.predict(X_test)"
      ],
      "metadata": {
        "colab": {
          "base_uri": "https://localhost:8080/"
        },
        "id": "L5KefYLyt-We",
        "outputId": "5042de63-69bd-4b20-dd01-9feab5f73bc0"
      },
      "execution_count": 178,
      "outputs": [
        {
          "output_type": "stream",
          "name": "stdout",
          "text": [
            "60/60 [==============================] - 0s 1ms/step\n",
            "15/15 [==============================] - 0s 2ms/step\n"
          ]
        }
      ]
    },
    {
      "cell_type": "code",
      "source": [
        "train_predict=scaler_train.inverse_transform(train_predict)\n",
        "test_predict=scaler_test.inverse_transform(test_predict)\n"
      ],
      "metadata": {
        "id": "yGkOfmAhsqWz"
      },
      "execution_count": 179,
      "outputs": []
    },
    {
      "cell_type": "code",
      "source": [
        "train_rmse=np.sqrt(mean_squared_error(y_train,train_predict))\n",
        "test_rmse=np.sqrt(mean_squared_error(y_test,test_predict,))\n",
        "print(f\"Train RMSE:{train_rmse}\")\n",
        "print(f\"Test RMSE:{test_rmse}\")"
      ],
      "metadata": {
        "colab": {
          "base_uri": "https://localhost:8080/"
        },
        "id": "hXjMjsSAssJ5",
        "outputId": "f4363234-2e30-4672-a675-015c48b1bdfe"
      },
      "execution_count": 180,
      "outputs": [
        {
          "output_type": "stream",
          "name": "stdout",
          "text": [
            "Train RMSE:195.1887664794922\n",
            "Test RMSE:321.0807189941406\n"
          ]
        }
      ]
    },
    {
      "cell_type": "code",
      "source": [
        "train_prediction_data=result_data[lookback:pos]\n",
        "train_prediction_data[\"Predicted\"]=train_predict\n",
        "train_prediction_data.head()"
      ],
      "metadata": {
        "colab": {
          "base_uri": "https://localhost:8080/",
          "height": 237
        },
        "id": "GeaqvAiostvC",
        "outputId": "edf69058-d6fa-4605-c0f6-4dc7f89303db"
      },
      "execution_count": 181,
      "outputs": [
        {
          "output_type": "execute_result",
          "data": {
            "text/plain": [
              "                Close  Predicted\n",
              "Date                            \n",
              "2010-07-28  20.719999  35.593334\n",
              "2010-07-29  20.350000  35.593334\n",
              "2010-07-30  19.940001  35.593334\n",
              "2010-08-02  20.920000  35.593334\n",
              "2010-08-03  21.950001  35.593334"
            ],
            "text/html": [
              "\n",
              "  <div id=\"df-dd2077ec-23b6-4a4e-a9af-ea7d2fab0519\">\n",
              "    <div class=\"colab-df-container\">\n",
              "      <div>\n",
              "<style scoped>\n",
              "    .dataframe tbody tr th:only-of-type {\n",
              "        vertical-align: middle;\n",
              "    }\n",
              "\n",
              "    .dataframe tbody tr th {\n",
              "        vertical-align: top;\n",
              "    }\n",
              "\n",
              "    .dataframe thead th {\n",
              "        text-align: right;\n",
              "    }\n",
              "</style>\n",
              "<table border=\"1\" class=\"dataframe\">\n",
              "  <thead>\n",
              "    <tr style=\"text-align: right;\">\n",
              "      <th></th>\n",
              "      <th>Close</th>\n",
              "      <th>Predicted</th>\n",
              "    </tr>\n",
              "    <tr>\n",
              "      <th>Date</th>\n",
              "      <th></th>\n",
              "      <th></th>\n",
              "    </tr>\n",
              "  </thead>\n",
              "  <tbody>\n",
              "    <tr>\n",
              "      <th>2010-07-28</th>\n",
              "      <td>20.719999</td>\n",
              "      <td>35.593334</td>\n",
              "    </tr>\n",
              "    <tr>\n",
              "      <th>2010-07-29</th>\n",
              "      <td>20.350000</td>\n",
              "      <td>35.593334</td>\n",
              "    </tr>\n",
              "    <tr>\n",
              "      <th>2010-07-30</th>\n",
              "      <td>19.940001</td>\n",
              "      <td>35.593334</td>\n",
              "    </tr>\n",
              "    <tr>\n",
              "      <th>2010-08-02</th>\n",
              "      <td>20.920000</td>\n",
              "      <td>35.593334</td>\n",
              "    </tr>\n",
              "    <tr>\n",
              "      <th>2010-08-03</th>\n",
              "      <td>21.950001</td>\n",
              "      <td>35.593334</td>\n",
              "    </tr>\n",
              "  </tbody>\n",
              "</table>\n",
              "</div>\n",
              "      <button class=\"colab-df-convert\" onclick=\"convertToInteractive('df-dd2077ec-23b6-4a4e-a9af-ea7d2fab0519')\"\n",
              "              title=\"Convert this dataframe to an interactive table.\"\n",
              "              style=\"display:none;\">\n",
              "        \n",
              "  <svg xmlns=\"http://www.w3.org/2000/svg\" height=\"24px\"viewBox=\"0 0 24 24\"\n",
              "       width=\"24px\">\n",
              "    <path d=\"M0 0h24v24H0V0z\" fill=\"none\"/>\n",
              "    <path d=\"M18.56 5.44l.94 2.06.94-2.06 2.06-.94-2.06-.94-.94-2.06-.94 2.06-2.06.94zm-11 1L8.5 8.5l.94-2.06 2.06-.94-2.06-.94L8.5 2.5l-.94 2.06-2.06.94zm10 10l.94 2.06.94-2.06 2.06-.94-2.06-.94-.94-2.06-.94 2.06-2.06.94z\"/><path d=\"M17.41 7.96l-1.37-1.37c-.4-.4-.92-.59-1.43-.59-.52 0-1.04.2-1.43.59L10.3 9.45l-7.72 7.72c-.78.78-.78 2.05 0 2.83L4 21.41c.39.39.9.59 1.41.59.51 0 1.02-.2 1.41-.59l7.78-7.78 2.81-2.81c.8-.78.8-2.07 0-2.86zM5.41 20L4 18.59l7.72-7.72 1.47 1.35L5.41 20z\"/>\n",
              "  </svg>\n",
              "      </button>\n",
              "      \n",
              "  <style>\n",
              "    .colab-df-container {\n",
              "      display:flex;\n",
              "      flex-wrap:wrap;\n",
              "      gap: 12px;\n",
              "    }\n",
              "\n",
              "    .colab-df-convert {\n",
              "      background-color: #E8F0FE;\n",
              "      border: none;\n",
              "      border-radius: 50%;\n",
              "      cursor: pointer;\n",
              "      display: none;\n",
              "      fill: #1967D2;\n",
              "      height: 32px;\n",
              "      padding: 0 0 0 0;\n",
              "      width: 32px;\n",
              "    }\n",
              "\n",
              "    .colab-df-convert:hover {\n",
              "      background-color: #E2EBFA;\n",
              "      box-shadow: 0px 1px 2px rgba(60, 64, 67, 0.3), 0px 1px 3px 1px rgba(60, 64, 67, 0.15);\n",
              "      fill: #174EA6;\n",
              "    }\n",
              "\n",
              "    [theme=dark] .colab-df-convert {\n",
              "      background-color: #3B4455;\n",
              "      fill: #D2E3FC;\n",
              "    }\n",
              "\n",
              "    [theme=dark] .colab-df-convert:hover {\n",
              "      background-color: #434B5C;\n",
              "      box-shadow: 0px 1px 3px 1px rgba(0, 0, 0, 0.15);\n",
              "      filter: drop-shadow(0px 1px 2px rgba(0, 0, 0, 0.3));\n",
              "      fill: #FFFFFF;\n",
              "    }\n",
              "  </style>\n",
              "\n",
              "      <script>\n",
              "        const buttonEl =\n",
              "          document.querySelector('#df-dd2077ec-23b6-4a4e-a9af-ea7d2fab0519 button.colab-df-convert');\n",
              "        buttonEl.style.display =\n",
              "          google.colab.kernel.accessAllowed ? 'block' : 'none';\n",
              "\n",
              "        async function convertToInteractive(key) {\n",
              "          const element = document.querySelector('#df-dd2077ec-23b6-4a4e-a9af-ea7d2fab0519');\n",
              "          const dataTable =\n",
              "            await google.colab.kernel.invokeFunction('convertToInteractive',\n",
              "                                                     [key], {});\n",
              "          if (!dataTable) return;\n",
              "\n",
              "          const docLinkHtml = 'Like what you see? Visit the ' +\n",
              "            '<a target=\"_blank\" href=https://colab.research.google.com/notebooks/data_table.ipynb>data table notebook</a>'\n",
              "            + ' to learn more about interactive tables.';\n",
              "          element.innerHTML = '';\n",
              "          dataTable['output_type'] = 'display_data';\n",
              "          await google.colab.output.renderOutput(dataTable, element);\n",
              "          const docLink = document.createElement('div');\n",
              "          docLink.innerHTML = docLinkHtml;\n",
              "          element.appendChild(docLink);\n",
              "        }\n",
              "      </script>\n",
              "    </div>\n",
              "  </div>\n",
              "  "
            ]
          },
          "metadata": {},
          "execution_count": 181
        }
      ]
    },
    {
      "cell_type": "code",
      "source": [
        "test_prediction_data=result_data[pos+lookback:]\n",
        "test_prediction_data[\"Predicted\"]=test_predict\n",
        "test_prediction_data.head()"
      ],
      "metadata": {
        "colab": {
          "base_uri": "https://localhost:8080/",
          "height": 237
        },
        "id": "CwsH4WCGswrk",
        "outputId": "2392d692-75bf-4f37-c182-5d044a2d646f"
      },
      "execution_count": 182,
      "outputs": [
        {
          "output_type": "execute_result",
          "data": {
            "text/plain": [
              "                 Close   Predicted\n",
              "Date                              \n",
              "2018-04-03  267.529999  297.246948\n",
              "2018-04-04  286.940002  295.337097\n",
              "2018-04-05  305.720001  297.481140\n",
              "2018-04-06  299.299988  301.150177\n",
              "2018-04-09  289.660004  302.784058"
            ],
            "text/html": [
              "\n",
              "  <div id=\"df-7082420b-2263-4031-aeaf-64c96138a877\">\n",
              "    <div class=\"colab-df-container\">\n",
              "      <div>\n",
              "<style scoped>\n",
              "    .dataframe tbody tr th:only-of-type {\n",
              "        vertical-align: middle;\n",
              "    }\n",
              "\n",
              "    .dataframe tbody tr th {\n",
              "        vertical-align: top;\n",
              "    }\n",
              "\n",
              "    .dataframe thead th {\n",
              "        text-align: right;\n",
              "    }\n",
              "</style>\n",
              "<table border=\"1\" class=\"dataframe\">\n",
              "  <thead>\n",
              "    <tr style=\"text-align: right;\">\n",
              "      <th></th>\n",
              "      <th>Close</th>\n",
              "      <th>Predicted</th>\n",
              "    </tr>\n",
              "    <tr>\n",
              "      <th>Date</th>\n",
              "      <th></th>\n",
              "      <th></th>\n",
              "    </tr>\n",
              "  </thead>\n",
              "  <tbody>\n",
              "    <tr>\n",
              "      <th>2018-04-03</th>\n",
              "      <td>267.529999</td>\n",
              "      <td>297.246948</td>\n",
              "    </tr>\n",
              "    <tr>\n",
              "      <th>2018-04-04</th>\n",
              "      <td>286.940002</td>\n",
              "      <td>295.337097</td>\n",
              "    </tr>\n",
              "    <tr>\n",
              "      <th>2018-04-05</th>\n",
              "      <td>305.720001</td>\n",
              "      <td>297.481140</td>\n",
              "    </tr>\n",
              "    <tr>\n",
              "      <th>2018-04-06</th>\n",
              "      <td>299.299988</td>\n",
              "      <td>301.150177</td>\n",
              "    </tr>\n",
              "    <tr>\n",
              "      <th>2018-04-09</th>\n",
              "      <td>289.660004</td>\n",
              "      <td>302.784058</td>\n",
              "    </tr>\n",
              "  </tbody>\n",
              "</table>\n",
              "</div>\n",
              "      <button class=\"colab-df-convert\" onclick=\"convertToInteractive('df-7082420b-2263-4031-aeaf-64c96138a877')\"\n",
              "              title=\"Convert this dataframe to an interactive table.\"\n",
              "              style=\"display:none;\">\n",
              "        \n",
              "  <svg xmlns=\"http://www.w3.org/2000/svg\" height=\"24px\"viewBox=\"0 0 24 24\"\n",
              "       width=\"24px\">\n",
              "    <path d=\"M0 0h24v24H0V0z\" fill=\"none\"/>\n",
              "    <path d=\"M18.56 5.44l.94 2.06.94-2.06 2.06-.94-2.06-.94-.94-2.06-.94 2.06-2.06.94zm-11 1L8.5 8.5l.94-2.06 2.06-.94-2.06-.94L8.5 2.5l-.94 2.06-2.06.94zm10 10l.94 2.06.94-2.06 2.06-.94-2.06-.94-.94-2.06-.94 2.06-2.06.94z\"/><path d=\"M17.41 7.96l-1.37-1.37c-.4-.4-.92-.59-1.43-.59-.52 0-1.04.2-1.43.59L10.3 9.45l-7.72 7.72c-.78.78-.78 2.05 0 2.83L4 21.41c.39.39.9.59 1.41.59.51 0 1.02-.2 1.41-.59l7.78-7.78 2.81-2.81c.8-.78.8-2.07 0-2.86zM5.41 20L4 18.59l7.72-7.72 1.47 1.35L5.41 20z\"/>\n",
              "  </svg>\n",
              "      </button>\n",
              "      \n",
              "  <style>\n",
              "    .colab-df-container {\n",
              "      display:flex;\n",
              "      flex-wrap:wrap;\n",
              "      gap: 12px;\n",
              "    }\n",
              "\n",
              "    .colab-df-convert {\n",
              "      background-color: #E8F0FE;\n",
              "      border: none;\n",
              "      border-radius: 50%;\n",
              "      cursor: pointer;\n",
              "      display: none;\n",
              "      fill: #1967D2;\n",
              "      height: 32px;\n",
              "      padding: 0 0 0 0;\n",
              "      width: 32px;\n",
              "    }\n",
              "\n",
              "    .colab-df-convert:hover {\n",
              "      background-color: #E2EBFA;\n",
              "      box-shadow: 0px 1px 2px rgba(60, 64, 67, 0.3), 0px 1px 3px 1px rgba(60, 64, 67, 0.15);\n",
              "      fill: #174EA6;\n",
              "    }\n",
              "\n",
              "    [theme=dark] .colab-df-convert {\n",
              "      background-color: #3B4455;\n",
              "      fill: #D2E3FC;\n",
              "    }\n",
              "\n",
              "    [theme=dark] .colab-df-convert:hover {\n",
              "      background-color: #434B5C;\n",
              "      box-shadow: 0px 1px 3px 1px rgba(0, 0, 0, 0.15);\n",
              "      filter: drop-shadow(0px 1px 2px rgba(0, 0, 0, 0.3));\n",
              "      fill: #FFFFFF;\n",
              "    }\n",
              "  </style>\n",
              "\n",
              "      <script>\n",
              "        const buttonEl =\n",
              "          document.querySelector('#df-7082420b-2263-4031-aeaf-64c96138a877 button.colab-df-convert');\n",
              "        buttonEl.style.display =\n",
              "          google.colab.kernel.accessAllowed ? 'block' : 'none';\n",
              "\n",
              "        async function convertToInteractive(key) {\n",
              "          const element = document.querySelector('#df-7082420b-2263-4031-aeaf-64c96138a877');\n",
              "          const dataTable =\n",
              "            await google.colab.kernel.invokeFunction('convertToInteractive',\n",
              "                                                     [key], {});\n",
              "          if (!dataTable) return;\n",
              "\n",
              "          const docLinkHtml = 'Like what you see? Visit the ' +\n",
              "            '<a target=\"_blank\" href=https://colab.research.google.com/notebooks/data_table.ipynb>data table notebook</a>'\n",
              "            + ' to learn more about interactive tables.';\n",
              "          element.innerHTML = '';\n",
              "          dataTable['output_type'] = 'display_data';\n",
              "          await google.colab.output.renderOutput(dataTable, element);\n",
              "          const docLink = document.createElement('div');\n",
              "          docLink.innerHTML = docLinkHtml;\n",
              "          element.appendChild(docLink);\n",
              "        }\n",
              "      </script>\n",
              "    </div>\n",
              "  </div>\n",
              "  "
            ]
          },
          "metadata": {},
          "execution_count": 182
        }
      ]
    },
    {
      "cell_type": "code",
      "source": [
        "plt.figure(figsize=(14,5))\n",
        "plt.plot(result_data,color=\"red\",label=\"Real Values\")\n",
        "plt.plot(train_prediction_data[\"Predicted\"],color=\"blue\",label=\"Train Predicted\")\n",
        "plt.plot(test_prediction_data[\"Predicted\"],color=\"green\",label=\"Test Predicted\")\n",
        "plt.xlabel(\"Time\")\n",
        "plt.ylabel(\"Stock Values\")\n",
        "plt.legend()\n",
        "plt.show()"
      ],
      "metadata": {
        "colab": {
          "base_uri": "https://localhost:8080/",
          "height": 334
        },
        "id": "HTSnrhbXsyFt",
        "outputId": "83288330-7276-42b1-dc6a-645c5e6252e5"
      },
      "execution_count": 184,
      "outputs": [
        {
          "output_type": "display_data",
          "data": {
            "text/plain": [
              "<Figure size 1008x360 with 1 Axes>"
            ],
            "image/png": "[encoded data removed]"
          },
          "metadata": {
            "needs_background": "light"
          }
        }
      ]
    }
  ]
}